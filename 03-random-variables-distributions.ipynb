{
 "cells": [
  {
   "cell_type": "markdown",
   "metadata": {},
   "source": [
    "# Random Variables and Distributions"
   ]
  },
  {
   "cell_type": "markdown",
   "metadata": {},
   "source": [
    "## Random Variables"
   ]
  },
  {
   "cell_type": "markdown",
   "metadata": {},
   "source": [
    "#### Definition\n",
    "\n",
    "A **random variable**\n",
    "\n",
    "$$\n",
    "X: \\Omega \\rightarrow \\mathbb{R}\n",
    "$$\n",
    "\n",
    "maps a real number $X(w)$ to each outcome $\\omega$."
   ]
  },
  {
   "cell_type": "markdown",
   "metadata": {},
   "source": [
    "#### Example\n",
    "\n"
   ]
  },
  {
   "cell_type": "code",
   "execution_count": null,
   "metadata": {
    "collapsed": true
   },
   "outputs": [],
   "source": []
  },
  {
   "cell_type": "markdown",
   "metadata": {},
   "source": [
    "## Random Variables with Discrete Distributions "
   ]
  },
  {
   "cell_type": "markdown",
   "metadata": {},
   "source": [
    "### Bernoulli Distribution\n",
    "\n",
    "TODO"
   ]
  },
  {
   "cell_type": "markdown",
   "metadata": {},
   "source": [
    "### Binomial Distribution\n",
    "\n",
    "TODO"
   ]
  },
  {
   "cell_type": "markdown",
   "metadata": {},
   "source": [
    "### Poisson Distribution"
   ]
  },
  {
   "cell_type": "markdown",
   "metadata": {},
   "source": [
    "#### Definition\n",
    "\n",
    "A random variable $X$ has a **Poisson distribution**, $X \\sim \\mathrm{Poission}(\\lambda)$ if\n",
    "\n",
    "$$\n",
    "f(n) = \\textrm{e}^{-\\lambda} \\frac{\\lambda^n}{n!} \\qquad \\forall n \\in \\mathbb{N}\n",
    "$$"
   ]
  },
  {
   "cell_type": "markdown",
   "metadata": {},
   "source": [
    "The Poisson distribution is *asymmetric* around a mean of $\\lambda$."
   ]
  },
  {
   "cell_type": "markdown",
   "metadata": {},
   "source": [
    "#### Example\n",
    "\n",
    "TODO"
   ]
  },
  {
   "cell_type": "markdown",
   "metadata": {},
   "source": [
    "#### Special Case\n",
    "\n",
    "There's a nice special case to remember of when $\\lambda = 1$ (e.g. one event in whatever period, say 100 years) and we want to know $f(0)$ (i.e. the probability that the event does not happen in any given period, like the next 100 years).\n",
    "\n",
    "$$\n",
    "f(0) = \\frac{\\mathrm{e}^{-1} {1}^{0}}{0!} = \\frac{1}{\\mathrm{e}} \\approx 0.37\n",
    "$$\n",
    "\n",
    "Also note that \n",
    "\n",
    "$$\n",
    "\\sum_{n=0}^{\\infty} f(n) = \\textrm{e}^{-\\lambda} \\sum_{n=0}^{\\infty}\\frac{{\\lambda^n}}{n!} = \\textrm{e}^{-\\lambda} \\textrm{e}^{\\lambda} = 1\n",
    "$$\n",
    "\n",
    "as required."
   ]
  },
  {
   "cell_type": "markdown",
   "metadata": {},
   "source": [
    "## Random Variables with Continuous Distributions "
   ]
  },
  {
   "cell_type": "markdown",
   "metadata": {},
   "source": [
    "### Normal Distribution\n",
    "\n",
    "Gaussian in physcsi"
   ]
  },
  {
   "cell_type": "markdown",
   "metadata": {},
   "source": [
    "### Cauchy Distribution\n",
    "\n",
    "Lorentzian in physics"
   ]
  },
  {
   "cell_type": "markdown",
   "metadata": {},
   "source": [
    "### Gamma Distribution"
   ]
  },
  {
   "cell_type": "markdown",
   "metadata": {},
   "source": [
    "## Bivariate Distribution"
   ]
  }
 ],
 "metadata": {
  "kernelspec": {
   "display_name": "Python 3",
   "language": "python",
   "name": "python3"
  },
  "language_info": {
   "codemirror_mode": {
    "name": "ipython",
    "version": 3
   },
   "file_extension": ".py",
   "mimetype": "text/x-python",
   "name": "python",
   "nbconvert_exporter": "python",
   "pygments_lexer": "ipython3",
   "version": "3.5.1"
  }
 },
 "nbformat": 4,
 "nbformat_minor": 0
}
