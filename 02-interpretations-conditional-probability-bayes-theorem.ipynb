{
 "cells": [
  {
   "cell_type": "markdown",
   "metadata": {},
   "source": [
    "# Interpretations, Conditional Probability and Bayes' Theorem"
   ]
  },
  {
   "cell_type": "markdown",
   "metadata": {},
   "source": [
    "## Interpretations \n",
    "\n",
    "Intuitively, $P(a)$ quantifies our confidence that the event $a$ will occur. But this doesn't tell us what the quantity means. Two common interpretations: _frequentist_ and _bayesian_ (a.k.a. _subjectivist_).\n",
    "\n",
    "**Frequentist**: probabilities are frequencies of events -- the fraction of times the event occurs if we repeat the measurement indefinitely. Limit of sequence of fractions of events in $a$ in $n$ measurements as $n \\rightarrow \\infty$.\n",
    "\n",
    "Problem: the event 'It will rain tomorrow afternoon'. Not clear how to define the frequency of an event that's only going to happen once. So no satisfactory interpretation.\n",
    "\n",
    "**Bayesian**: $P(a) = 0.3$ represents subjective statement about my degree of belief that the event $a$ will happen.\n",
    "\n",
    "Problem: need to explain how subjective beliefs are reflected in action. One way is to see how much you're willing to bet. If degrees of belief don't match the rules of a probability distribution, we can find a series of bets that results in a sure negative outcome.  The argument is then that a rational agent must hold degrees of belief that satisfy rules of probability.\n",
    "\n",
    "Same technical interpretation for both."
   ]
  },
  {
   "cell_type": "markdown",
   "metadata": {},
   "source": [
    "## Conditional Probability\n",
    "\n",
    "The _conditional probability_ of $b$ given $a$ is \n",
    "\n",
    "$$\n",
    "P(b | a) := \\frac{P(a \\cap b)}{P(a)} \\tag{1}\n",
    "$$\n",
    "\n",
    "That is, the probability that event $b$ happens given that we know the relative proportions of hte probabilities that (numerator) $b$ and $a$ happens and (denominator) $a$ happens.\n",
    "\n",
    "We can rephrase the conditional probability expression as $P(a \\cap b) = P(b | a)P(a)$.\n",
    "\n",
    "Subject to a _chain rule_\n",
    "\n",
    "$$\n",
    "P(a_1 \\cap a_2 \\cap \\dots \\cap a_k) = P(a_1)P(a_1 | a_2) \\dots P(a_1 | a_2 \\cap \\dots \\cap\n",
    "a_k)\n",
    "$$"
   ]
  },
  {
   "cell_type": "markdown",
   "metadata": {},
   "source": [
    "## Bayes' Theorem\n",
    "\n",
    "TODO"
   ]
  }
 ],
 "metadata": {
  "kernelspec": {
   "display_name": "Python 3",
   "language": "python",
   "name": "python3"
  },
  "language_info": {
   "codemirror_mode": {
    "name": "ipython",
    "version": 3
   },
   "file_extension": ".py",
   "mimetype": "text/x-python",
   "name": "python",
   "nbconvert_exporter": "python",
   "pygments_lexer": "ipython3",
   "version": "3.5.1"
  }
 },
 "nbformat": 4,
 "nbformat_minor": 0
}
